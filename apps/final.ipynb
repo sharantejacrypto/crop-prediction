{
 "cells": [
  {
   "cell_type": "code",
   "execution_count": 1,
   "metadata": {},
   "outputs": [],
   "source": [
    "import base64\n",
    "import numpy as np\n",
    "import io\n",
    "from PIL import Image\n",
    "import keras\n",
    "from keras import backend as K\n",
    "from keras.models import Sequential\n",
    "from keras.models import load_model\n",
    "from keras.preprocessing.image import ImageDataGenerator\n",
    "from keras.preprocessing.image import img_to_array\n",
    "from flask import jsonify\n",
    "from flask import Flask, render_template,request\n",
    "import pickle"
   ]
  },
  {
   "cell_type": "code",
   "execution_count": 2,
   "metadata": {},
   "outputs": [],
   "source": [
    "app = Flask(__name__)"
   ]
  },
  {
   "cell_type": "code",
   "execution_count": 3,
   "metadata": {},
   "outputs": [
    {
     "name": "stderr",
     "output_type": "stream",
     "text": [
      "C:\\Users\\shara\\anaconda3\\lib\\site-packages\\sklearn\\base.py:329: UserWarning: Trying to unpickle estimator DecisionTreeRegressor from version 0.22.1 when using version 0.23.2. This might lead to breaking code or invalid results. Use at your own risk.\n",
      "  warnings.warn(\n"
     ]
    }
   ],
   "source": [
    "model1 = pickle.load(open('model.pkl', 'rb'))\n",
    "\n",
    "def get_model():\n",
    "    global model\n",
    "    model = load_model('model_final.h5')\n",
    "    print(\" * Model loaded!\")\n",
    "\n",
    "def preprocess_image(image, target_size):\n",
    "    if image.mode != \"RGB\":\n",
    "        image = image.convert(\"RGB\")\n",
    "    image = image.resize(target_size)\n",
    "    image = img_to_array(image)\n",
    "    image = np.expand_dims(image, axis=0)\n",
    "\n",
    "    return image\n"
   ]
  },
  {
   "cell_type": "code",
   "execution_count": 4,
   "metadata": {},
   "outputs": [
    {
     "name": "stdout",
     "output_type": "stream",
     "text": [
      " * Loading Keras model...\n",
      " * Model loaded!\n"
     ]
    }
   ],
   "source": [
    "print(\" * Loading Keras model...\")\n",
    "get_model()"
   ]
  },
  {
   "cell_type": "code",
   "execution_count": 5,
   "metadata": {},
   "outputs": [],
   "source": [
    "@app.route('/')\n",
    "def homes():\n",
    "    return render_template('index.html')\n",
    "\n",
    "@app.route('/index.html')\n",
    "def homesa():\n",
    "    return render_template('index.html')\n",
    "\n",
    "@app.route('/indeex.html',methods=['POST','GET'])\n",
    "def a1():\n",
    "    return render_template('indeex.html')\n",
    "\n",
    "@app.route('/predict.html')\n",
    "def homee1():\n",
    "    return render_template('predict.html')\n",
    "\n",
    "@app.route('/Blog.html',methods=['POST','GET'])\n",
    "def homes2():\n",
    "    return render_template('Blog.html')\n",
    "\n",
    "@app.route('/cart.html',methods=['POST','GET'])\n",
    "def homee3():\n",
    "    return render_template('cart.html')\n",
    "\n",
    "@app.route('/login.html',methods=['POST','GET'])\n",
    "def homee34():\n",
    "    return render_template('login.html')\n",
    "\n",
    "@app.route('/form.html',methods=['POST','GET'])\n",
    "def homee4():\n",
    "    return render_template('form.html')\n"
   ]
  },
  {
   "cell_type": "code",
   "execution_count": 6,
   "metadata": {},
   "outputs": [],
   "source": [
    "@app.route('/predict1',methods=['POST','GET'])\n",
    "def predict1():\n",
    "    form = request.form\n",
    "    for key in form.keys():\n",
    "        validator = key\n",
    "        break\n",
    "    int_features = [float(x) for x in form.values()]\n",
    "    final=[np.array(int_features)]\n",
    "    #print(int_features)\n",
    "    #print(final)\n",
    "    #final_features = [[58,66,79,29,18,9,93]]\n",
    "    prediction = model1.predict(final)\n",
    "    outpu = round(prediction[0], 2) \n",
    "    inv_map={0: 'rice',1: 'maize',2: 'chickpea',3: 'kidneybeans',4: 'pigeonpeas',5: 'mothbeans',6: 'mungbean',7: 'blackgram',8: 'lentil',9: 'pomegranate',10: 'banana',11: 'mango',12: 'grapes',13: 'watermelon',14: 'muskmelon',15: 'apple',16: 'orange',17: 'papaya',18: 'coconut',19: 'cotton',20: 'jute',21: 'coffee'}\n",
    "    output=inv_map[int(outpu)].upper()\n",
    "    if validator == 'MobileApp':\n",
    "        return jsonify({'predictedCrop': 'Best crop is {}'.format(output)})\n",
    "    else:\n",
    "        return render_template('indeex.html', pred = 'Best crop is {}'.format(output))"
   ]
  },
  {
   "cell_type": "code",
   "execution_count": 7,
   "metadata": {},
   "outputs": [],
   "source": [
    "@app.route(\"/predict\", methods=[\"POST\"])\n",
    "def predict():\n",
    "    message = request.get_json(force=True)\n",
    "    encoded = message['image']\n",
    "    decoded = base64.b64decode(encoded)\n",
    "    image = Image.open(io.BytesIO(decoded))\n",
    "    processed_image = preprocess_image(image, target_size=(224, 224))\n",
    "    \n",
    "    prediction = model.predict(processed_image).tolist()\n",
    "    \n",
    "    response = {\n",
    "        'prediction': {\n",
    "            'Apple Scab': prediction[0][0],\n",
    "            'Apple Black rot': prediction[0][1],\n",
    "            'Apple___Cedar_apple_rust':prediction[0][2],\n",
    "            'Apple Healthy': prediction[0][3],\n",
    "            'Cherry_(including_sour)___Powdery_mildew': prediction[0][4],\n",
    "            'Cherry_(including_sour)___healthy': prediction[0][5],\n",
    "            'Corn cercospora': prediction[0][6],\n",
    "            'Corn common rust': prediction[0][7],\n",
    "            'Corn_(maize)___Northern_Leaf_Blight': prediction[0][8],\n",
    "            'Corn_(maize)___healthy': prediction[0][9],\n",
    "            'Grape black rot': prediction[0][10],\n",
    "            'Grape___Esca_(Black_Measles)': prediction[0][11],\n",
    "            'Grape___Leaf_blight_(Isariopsis_Leaf_Spot)': prediction[0][12],\n",
    "            'Grape___healthy': prediction[0][13],\n",
    "            'Peach___Bacterial_spot': prediction[0][14],\n",
    "            'Peach___healthy': prediction[0][15],\n",
    "            'Pepper,_bell___Bacterial_spot': prediction[0][16],\n",
    "            'Pepper,_bell___healthy': prediction[0][17],\n",
    "            'Potato___Early_blight': prediction[0][18],\n",
    "            'Potato___Late_blight': prediction[0][19],\n",
    "            'Potato___healthy': prediction[0][20],\n",
    "            'Strawberry___Leaf_scorch': prediction[0][21],\n",
    "            'Strawberry___healthy': prediction[0][22],\n",
    "            #'max':np.argmax(prediction,axis=1)\n",
    "\n",
    "        }\n",
    "    }\n",
    "    return jsonify(response)"
   ]
  },
  {
   "cell_type": "code",
   "execution_count": null,
   "metadata": {
    "scrolled": true
   },
   "outputs": [
    {
     "name": "stdout",
     "output_type": "stream",
     "text": [
      " * Serving Flask app \"__main__\" (lazy loading)\n",
      " * Environment: production\n",
      "   WARNING: This is a development server. Do not use it in a production deployment.\n",
      "   Use a production WSGI server instead.\n",
      " * Debug mode: off\n"
     ]
    },
    {
     "name": "stderr",
     "output_type": "stream",
     "text": [
      " * Running on http://127.0.0.1:5000/ (Press CTRL+C to quit)\n",
      "127.0.0.1 - - [21/Jun/2021 17:35:39] \"\u001b[37mGET / HTTP/1.1\u001b[0m\" 200 -\n",
      "127.0.0.1 - - [21/Jun/2021 17:35:41] \"\u001b[33mGET /favicon.ico HTTP/1.1\u001b[0m\" 404 -\n",
      "127.0.0.1 - - [21/Jun/2021 17:35:42] \"\u001b[37mGET /predict.html HTTP/1.1\u001b[0m\" 200 -\n",
      "127.0.0.1 - - [21/Jun/2021 17:35:46] \"\u001b[37mGET /indeex.html HTTP/1.1\u001b[0m\" 200 -\n",
      "127.0.0.1 - - [21/Jun/2021 17:35:49] \"\u001b[37mPOST /predict1 HTTP/1.1\u001b[0m\" 200 -\n",
      "127.0.0.1 - - [21/Jun/2021 17:36:28] \"\u001b[37mGET / HTTP/1.1\u001b[0m\" 200 -\n",
      "127.0.0.1 - - [21/Jun/2021 17:36:59] \"\u001b[33mGET /favicon.ico HTTP/1.1\u001b[0m\" 404 -\n"
     ]
    }
   ],
   "source": [
    "if __name__ == \"__main__\":\n",
    "    app.run()"
   ]
  },
  {
   "cell_type": "code",
   "execution_count": null,
   "metadata": {},
   "outputs": [],
   "source": []
  }
 ],
 "metadata": {
  "kernelspec": {
   "display_name": "Python 3",
   "language": "python",
   "name": "python3"
  },
  "language_info": {
   "codemirror_mode": {
    "name": "ipython",
    "version": 3
   },
   "file_extension": ".py",
   "mimetype": "text/x-python",
   "name": "python",
   "nbconvert_exporter": "python",
   "pygments_lexer": "ipython3",
   "version": "3.8.5"
  }
 },
 "nbformat": 4,
 "nbformat_minor": 4
}
